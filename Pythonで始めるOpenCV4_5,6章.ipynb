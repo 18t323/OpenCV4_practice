{
 "cells": [
  {
   "cell_type": "markdown",
   "metadata": {},
   "source": [
    "## 5章"
   ]
  },
  {
   "cell_type": "code",
   "execution_count": 23,
   "metadata": {},
   "outputs": [],
   "source": [
    "import cv2\n",
    "import numpy as np"
   ]
  },
  {
   "cell_type": "markdown",
   "metadata": {},
   "source": [
    "輝度平滑化"
   ]
  },
  {
   "cell_type": "code",
   "execution_count": 2,
   "metadata": {},
   "outputs": [],
   "source": [
    "try :\n",
    "    img = cv2.imread('c:/temp/Lenna.jpg',cv2.IMREAD_GRAYSCALE)\n",
    "    \n",
    "    if img is None:\n",
    "        print('error 30')\n",
    "        import sys\n",
    "        sys.exit()\n",
    "    \n",
    "    dst = cv2.equalizeHist(img)\n",
    "    cv2.imwrite('c:/temp/equalize.jpg',dst)\n",
    "    cv2.imshow('dst',dst)\n",
    "    \n",
    "    cv2.waitKey(0)\n",
    "    cv2.destroyAllWindows()\n",
    "\n",
    "except : \n",
    "    import sys\n",
    "    print(\"Error:\",sys.exc_info()[0])\n",
    "    print(sys.exc_info()[1])\n",
    "    import traceback\n",
    "    print(traceback.format_tb(sys.exc_info()[2]))"
   ]
  },
  {
   "cell_type": "markdown",
   "metadata": {},
   "source": [
    "閾値処理１"
   ]
  },
  {
   "cell_type": "code",
   "execution_count": 4,
   "metadata": {},
   "outputs": [],
   "source": [
    "try :\n",
    "    img = cv2.imread('c:/temp/Lenna.jpg',cv2.IMREAD_GRAYSCALE)\n",
    "    \n",
    "    if img is None:\n",
    "        print('error 30')\n",
    "        import sys\n",
    "        sys.exit()\n",
    "    \n",
    "    ret,dst = cv2.threshold(img,100,200,cv2.THRESH_BINARY)\n",
    "    cv2.imwrite(\"c:/temp/threshold_THRESH_BINARY.jpg\",dst)\n",
    "    cv2.imshow('dst1',dst)\n",
    "    # 閾値より大なら輝度最大値に、小なら０に\n",
    "    \n",
    "    ret,dst = cv2.threshold(img,100,200,cv2.THRESH_BINARY_INV)\n",
    "    cv2.imwrite(\"c:/temp/threshold_THRESH_INV.jpg\",dst)\n",
    "    cv2.imshow('dst2',dst)\n",
    "    # 閾値より大なら輝度０に、小なら最大値に\n",
    "    \n",
    "    ret,dst = cv2.threshold(img,100,200,cv2.THRESH_TRUNC)\n",
    "    cv2.imwrite(\"c:/temp/threshold_THRESH_TRUNC.jpg\",dst)\n",
    "    cv2.imshow('dst3',dst)\n",
    "    # 閾値より大なら輝度最大値に\n",
    "    \n",
    "    ret,dst = cv2.threshold(img,100,200,cv2.THRESH_TOZERO)\n",
    "    cv2.imwrite(\"c:/temp/threshold_THRESH_TOZERO.jpg\",dst)\n",
    "    cv2.imshow('dst4',dst)\n",
    "    # 閾値より小なら輝度０に\n",
    "    \n",
    "    ret,dst = cv2.threshold(img,100,200,cv2.THRESH_TOZERO_INV)\n",
    "    cv2.imwrite(\"c:/temp/threshold_THRESH_TOZERO_INV.jpg\",dst)\n",
    "    cv2.imshow('dst5',dst)  \n",
    "    # 閾値より大なら輝度０に\n",
    "       \n",
    "    cv2.waitKey(0)\n",
    "    cv2.destroyAllWindows()\n",
    "\n",
    "except : \n",
    "    import sys\n",
    "    print(\"Error:\",sys.exc_info()[0])\n",
    "    print(sys.exc_info()[1])\n",
    "    import traceback\n",
    "    print(traceback.format_tb(sys.exc_info()[2]))"
   ]
  },
  {
   "cell_type": "markdown",
   "metadata": {},
   "source": [
    "閾値処理２"
   ]
  },
  {
   "cell_type": "code",
   "execution_count": 5,
   "metadata": {},
   "outputs": [],
   "source": [
    "try :\n",
    "    img = cv2.imread('c:/temp/Lenna.jpg',cv2.IMREAD_GRAYSCALE)\n",
    "    \n",
    "    if img is None:\n",
    "        print('error 30')\n",
    "        import sys\n",
    "        sys.exit()\n",
    "    \n",
    "    dst = cv2.adaptiveThreshold(img,200,cv2.ADAPTIVE_THRESH_GAUSSIAN_C,cv2.THRESH_BINARY,7,8)\n",
    "    cv2.imwrite('c:/temp/adaptiveThreshold.jpg',dst)\n",
    "    cv2.imshow('dst',dst)\n",
    "    # 近傍から閾値を求める（第5引数）\n",
    "    \n",
    "    cv2.waitKey(0)\n",
    "    cv2.destroyAllWindows()\n",
    "\n",
    "except : \n",
    "    import sys\n",
    "    print(\"Error:\",sys.exc_info()[0])\n",
    "    print(sys.exc_info()[1])\n",
    "    import traceback\n",
    "    print(traceback.format_tb(sys.exc_info()[2]))"
   ]
  },
  {
   "cell_type": "markdown",
   "metadata": {},
   "source": [
    "カラー画像各成分の分離"
   ]
  },
  {
   "cell_type": "code",
   "execution_count": 11,
   "metadata": {},
   "outputs": [],
   "source": [
    "try :\n",
    "    img = cv2.imread('c:/temp/Lenna.jpg')\n",
    "    \n",
    "    if img is None:\n",
    "        print('error 30')\n",
    "        import sys\n",
    "        sys.exit()\n",
    "    \n",
    "    rgb = cv2.split(img)\n",
    "    blue = rgb[0]\n",
    "    green = rgb[1]\n",
    "    red = rgb[2]\n",
    "    \n",
    "    cv2.imwrite('c:/temp/b.jpg',blue)\n",
    "    cv2.imwrite('c:/temp/g.jpg',green)\n",
    "    cv2.imwrite('c:/temp/r.jpg',red)\n",
    "    \n",
    "    cv2.imshow('blue',blue)\n",
    "    cv2.imshow('green',green)\n",
    "    cv2.imshow('red',red)\n",
    "    \n",
    "    cv2.waitKey(0)\n",
    "    cv2.destroyAllWindows()\n",
    "\n",
    "except : \n",
    "    import sys\n",
    "    print(\"Error:\",sys.exc_info()[0])\n",
    "    print(sys.exc_info()[1])\n",
    "    import traceback\n",
    "    print(traceback.format_tb(sys.exc_info()[2]))"
   ]
  },
  {
   "cell_type": "markdown",
   "metadata": {},
   "source": [
    "## 第6章"
   ]
  },
  {
   "cell_type": "markdown",
   "metadata": {},
   "source": [
    "色反転"
   ]
  },
  {
   "cell_type": "code",
   "execution_count": 12,
   "metadata": {},
   "outputs": [],
   "source": [
    "try :\n",
    "    img = cv2.imread('c:/temp/Lenna.jpg')\n",
    "    \n",
    "    if img is None:\n",
    "        print('error 30')\n",
    "        import sys\n",
    "        sys.exit()\n",
    "    \n",
    "    dst = cv2.bitwise_not(img)\n",
    "    cv2.imwrite('c:/temp/bitwise_not.jpg',dst)\n",
    "    cv2.imshow('dst',dst)\n",
    "    \n",
    "    cv2.waitKey(0)\n",
    "    cv2.destroyAllWindows()\n",
    "\n",
    "except : \n",
    "    import sys\n",
    "    print(\"Error:\",sys.exc_info()[0])\n",
    "    print(sys.exc_info()[1])\n",
    "    import traceback\n",
    "    print(traceback.format_tb(sys.exc_info()[2]))"
   ]
  },
  {
   "cell_type": "markdown",
   "metadata": {},
   "source": [
    "ブラー処理"
   ]
  },
  {
   "cell_type": "code",
   "execution_count": 16,
   "metadata": {},
   "outputs": [],
   "source": [
    "try :\n",
    "    img = cv2.imread('c:/temp/Lenna.jpg')\n",
    "    \n",
    "    if img is None:\n",
    "        print('error 30')\n",
    "        import sys\n",
    "        sys.exit()\n",
    "    \n",
    "    dst = cv2.blur(img,(30,30))\n",
    "    cv2.imwrite('c:/temp/blur.jpg',dst)\n",
    "    cv2.imshow('dst',dst)\n",
    "    \n",
    "    cv2.waitKey(0)\n",
    "    cv2.destroyAllWindows()\n",
    "\n",
    "except : \n",
    "    import sys\n",
    "    print(\"Error:\",sys.exc_info()[0])\n",
    "    print(sys.exc_info()[1])\n",
    "    import traceback\n",
    "    print(traceback.format_tb(sys.exc_info()[2]))"
   ]
  },
  {
   "cell_type": "markdown",
   "metadata": {},
   "source": [
    "メディアン処理"
   ]
  },
  {
   "cell_type": "code",
   "execution_count": 18,
   "metadata": {},
   "outputs": [],
   "source": [
    "try :\n",
    "    img = cv2.imread('c:/temp/Lenna.jpg')\n",
    "    \n",
    "    if img is None:\n",
    "        print('error 30')\n",
    "        import sys\n",
    "        sys.exit()\n",
    "    \n",
    "    dst = cv2.medianBlur(img,11)\n",
    "    cv2.imwrite('c:/temp/medianblur.jpg',dst)\n",
    "    cv2.imshow('dst',dst)\n",
    "    # 中央値なので第2引数は奇数で\n",
    "    \n",
    "    cv2.waitKey(0)\n",
    "    cv2.destroyAllWindows()\n",
    "\n",
    "except : \n",
    "    import sys\n",
    "    print(\"Error:\",sys.exc_info()[0])\n",
    "    print(sys.exc_info()[1])\n",
    "    import traceback\n",
    "    print(traceback.format_tb(sys.exc_info()[2]))"
   ]
  },
  {
   "cell_type": "markdown",
   "metadata": {},
   "source": [
    "ガウシアン処理"
   ]
  },
  {
   "cell_type": "code",
   "execution_count": 19,
   "metadata": {},
   "outputs": [],
   "source": [
    "try :\n",
    "    img = cv2.imread('c:/temp/Lenna.jpg')\n",
    "    \n",
    "    if img is None:\n",
    "        print('error 30')\n",
    "        import sys\n",
    "        sys.exit()\n",
    "    \n",
    "    dst = cv2.GaussianBlur(img,(13,13),10,10)\n",
    "    cv2.imwrite('c:/temp/gaussianBlur.jpg',dst)\n",
    "    cv2.imshow('dst',dst)\n",
    "    \n",
    "    cv2.waitKey(0)\n",
    "    cv2.destroyAllWindows()\n",
    "\n",
    "except : \n",
    "    import sys\n",
    "    print(\"Error:\",sys.exc_info()[0])\n",
    "    print(sys.exc_info()[1])\n",
    "    import traceback\n",
    "    print(traceback.format_tb(sys.exc_info()[2]))"
   ]
  },
  {
   "cell_type": "markdown",
   "metadata": {},
   "source": [
    "ラプラシアン処理"
   ]
  },
  {
   "cell_type": "code",
   "execution_count": 20,
   "metadata": {},
   "outputs": [],
   "source": [
    "try :\n",
    "    img = cv2.imread('c:/temp/Lenna.jpg')\n",
    "    \n",
    "    if img is None:\n",
    "        print('error 30')\n",
    "        import sys\n",
    "        sys.exit()\n",
    "    \n",
    "    dst = cv2.Laplacian(img,-1)\n",
    "    cv2.imwrite('c:/temp/laplacian.jpg',dst)\n",
    "    cv2.imshow('dst',dst)\n",
    "    # エッジ検出1\n",
    "    \n",
    "    cv2.waitKey(0)\n",
    "    cv2.destroyAllWindows()\n",
    "\n",
    "except : \n",
    "    import sys\n",
    "    print(\"Error:\",sys.exc_info()[0])\n",
    "    print(sys.exc_info()[1])\n",
    "    import traceback\n",
    "    print(traceback.format_tb(sys.exc_info()[2]))"
   ]
  },
  {
   "cell_type": "markdown",
   "metadata": {},
   "source": [
    "Sobel処理"
   ]
  },
  {
   "cell_type": "code",
   "execution_count": 21,
   "metadata": {},
   "outputs": [],
   "source": [
    "try :\n",
    "    img = cv2.imread('c:/temp/Lenna.jpg')\n",
    "    \n",
    "    if img is None:\n",
    "        print('error 30')\n",
    "        import sys\n",
    "        sys.exit()\n",
    "    \n",
    "    dst = cv2.Sobel(img,-1,0,1)\n",
    "    cv2.imwrite('c:/temp/sobel.jpg',dst)\n",
    "    cv2.imshow('dst',dst)\n",
    "    # エッジ検出2\n",
    "    \n",
    "    cv2.waitKey(0)\n",
    "    cv2.destroyAllWindows()\n",
    "\n",
    "except : \n",
    "    import sys\n",
    "    print(\"Error:\",sys.exc_info()[0])\n",
    "    print(sys.exc_info()[1])\n",
    "    import traceback\n",
    "    print(traceback.format_tb(sys.exc_info()[2]))"
   ]
  },
  {
   "cell_type": "code",
   "execution_count": 22,
   "metadata": {},
   "outputs": [],
   "source": [
    "try :\n",
    "    img = cv2.imread('c:/temp/Lenna.jpg')\n",
    "    \n",
    "    if img is None:\n",
    "        print('error 30')\n",
    "        import sys\n",
    "        sys.exit()\n",
    "    \n",
    "    dst = cv2.Canny(img,40.0,200.0)\n",
    "    cv2.imwrite('c:/temp/canny.jpg',dst)\n",
    "    cv2.imshow('dst',dst)\n",
    "    # エッジ検出3\n",
    "    \n",
    "    cv2.waitKey(0)\n",
    "    cv2.destroyAllWindows()\n",
    "\n",
    "except : \n",
    "    import sys\n",
    "    print(\"Error:\",sys.exc_info()[0])\n",
    "    print(sys.exc_info()[1])\n",
    "    import traceback\n",
    "    print(traceback.format_tb(sys.exc_info()[2]))"
   ]
  },
  {
   "cell_type": "markdown",
   "metadata": {},
   "source": [
    "画像の膨張\n",
    "- 画素の欠損した部分を補う場合に利用"
   ]
  },
  {
   "cell_type": "code",
   "execution_count": 25,
   "metadata": {},
   "outputs": [],
   "source": [
    "try :\n",
    "    img = cv2.imread('c:/temp/Lenna.jpg')\n",
    "    \n",
    "    if img is None:\n",
    "        print('error 30')\n",
    "        import sys\n",
    "        sys.exit()\n",
    "    \n",
    "    kernel = np.ones((3,3),np.uint8)\n",
    "    dst = cv2.dilate(img,kernel)\n",
    "    cv2.imwrite('c:/temp/dilate.jpg',dst)\n",
    "    cv2.imshow('dst',dst)\n",
    "    \n",
    "    cv2.waitKey(0)\n",
    "    cv2.destroyAllWindows()\n",
    "\n",
    "except : \n",
    "    import sys\n",
    "    print(\"Error:\",sys.exc_info()[0])\n",
    "    print(sys.exc_info()[1])\n",
    "    import traceback\n",
    "    print(traceback.format_tb(sys.exc_info()[2]))"
   ]
  },
  {
   "cell_type": "markdown",
   "metadata": {},
   "source": [
    "画像の収縮\n",
    "- 膨張と合わせるとノイズ除去にも応用できる"
   ]
  },
  {
   "cell_type": "code",
   "execution_count": 27,
   "metadata": {},
   "outputs": [],
   "source": [
    "try :\n",
    "    img = cv2.imread('c:/temp/Lenna.jpg')\n",
    "    \n",
    "    if img is None:\n",
    "        print('error 30')\n",
    "        import sys\n",
    "        sys.exit()\n",
    "    \n",
    "    kernel = np.ones((3,3),np.uint8)\n",
    "    dst = cv2.erode(img,kernel)\n",
    "    cv2.imwrite('c:/temp/erode.jpg',dst)\n",
    "    cv2.imshow('dst',dst)\n",
    "    \n",
    "    cv2.waitKey(0)\n",
    "    cv2.destroyAllWindows()\n",
    "\n",
    "except : \n",
    "    import sys\n",
    "    print(\"Error:\",sys.exc_info()[0])\n",
    "    print(sys.exc_info()[1])\n",
    "    import traceback\n",
    "    print(traceback.format_tb(sys.exc_info()[2]))"
   ]
  },
  {
   "cell_type": "markdown",
   "metadata": {},
   "source": [
    "ボックスフィルタ処理"
   ]
  },
  {
   "cell_type": "code",
   "execution_count": 28,
   "metadata": {},
   "outputs": [],
   "source": [
    "try :\n",
    "    img = cv2.imread('c:/temp/Lenna.jpg')\n",
    "    \n",
    "    if img is None:\n",
    "        print('error 30')\n",
    "        import sys\n",
    "        sys.exit()\n",
    "    \n",
    "    dst = cv2.boxFilter(img,-1,(5,5))\n",
    "    cv2.imwrite('c:/temp/BoxFilter.jpg',dst)\n",
    "    cv2.imshow('dst',dst)\n",
    "    \n",
    "    cv2.waitKey(0)\n",
    "    cv2.destroyAllWindows()\n",
    "\n",
    "except : \n",
    "    import sys\n",
    "    print(\"Error:\",sys.exc_info()[0])\n",
    "    print(sys.exc_info()[1])\n",
    "    import traceback\n",
    "    print(traceback.format_tb(sys.exc_info()[2]))"
   ]
  },
  {
   "cell_type": "markdown",
   "metadata": {},
   "source": [
    "モザイク処理"
   ]
  },
  {
   "cell_type": "code",
   "execution_count": 30,
   "metadata": {},
   "outputs": [],
   "source": [
    "try :\n",
    "    img = cv2.imread('c:/temp/Lenna.jpg')\n",
    "    \n",
    "    if img is None:\n",
    "        print('error 30')\n",
    "        import sys\n",
    "        sys.exit()\n",
    "    \n",
    "    SCALE = 0.2\n",
    "    height = img.shape[0]\n",
    "    width = img.shape[1]\n",
    "    \n",
    "    dst = cv2.resize(img,(round(width * SCALE),round(height * SCALE)),interpolation = cv2.INTER_NEAREST)\n",
    "    dst = cv2.resize(dst,(width,height),interpolation = cv2.INTER_NEAREST)\n",
    "    cv2.imwrite('c:/temp/mozaic.jpg',dst)\n",
    "    cv2.imshow('dst',dst)\n",
    "    # 縮小した後、元に戻す\n",
    "    \n",
    "    cv2.waitKey(0)\n",
    "    cv2.destroyAllWindows()\n",
    "\n",
    "except : \n",
    "    import sys\n",
    "    print(\"Error:\",sys.exc_info()[0])\n",
    "    print(sys.exc_info()[1])\n",
    "    import traceback\n",
    "    print(traceback.format_tb(sys.exc_info()[2]))"
   ]
  },
  {
   "cell_type": "code",
   "execution_count": null,
   "metadata": {},
   "outputs": [],
   "source": []
  },
  {
   "cell_type": "code",
   "execution_count": null,
   "metadata": {},
   "outputs": [],
   "source": []
  }
 ],
 "metadata": {
  "kernelspec": {
   "display_name": "Python 3",
   "language": "python",
   "name": "python3"
  },
  "language_info": {
   "codemirror_mode": {
    "name": "ipython",
    "version": 3
   },
   "file_extension": ".py",
   "mimetype": "text/x-python",
   "name": "python",
   "nbconvert_exporter": "python",
   "pygments_lexer": "ipython3",
   "version": "3.8.4rc1"
  }
 },
 "nbformat": 4,
 "nbformat_minor": 4
}
