{
 "cells": [
  {
   "cell_type": "markdown",
   "metadata": {},
   "source": [
    "## 2章"
   ]
  },
  {
   "cell_type": "code",
   "execution_count": 2,
   "metadata": {},
   "outputs": [],
   "source": [
    "import numpy as np\n",
    "import cv2"
   ]
  },
  {
   "cell_type": "code",
   "execution_count": 9,
   "metadata": {},
   "outputs": [],
   "source": [
    "img = np.zeros((400,400,3),np.uint8)\n",
    "img[:,:] = [255,0,0]\n",
    "cv2.imwrite('C:/temp/blueImage.jpg',img)\n",
    "cv2.imshow('img1',img)\n",
    "\n",
    "img[:,:] = [0,255,0]\n",
    "cv2.imwrite('C:/temp/greenImage.jpg',img)\n",
    "cv2.imshow('img2',img)\n",
    "\n",
    "img[:,:] = [0,0,255]\n",
    "cv2.imwrite('C:/temp/redImage.jpg',img)\n",
    "cv2.imshow('img3',img)\n",
    "\n",
    "cv2.waitKey(0)\n",
    "cv2.destroyAllWindows()"
   ]
  },
  {
   "cell_type": "code",
   "execution_count": 2,
   "metadata": {},
   "outputs": [],
   "source": [
    "img = np.zeros((400,400,3),np.uint8)\n",
    "img[:,:] = [0,0,255]\n",
    "cv2.imwrite('C:/Users/18T323/Desktop/研究/Pythonで始めるOpenCV4/redImage.jpg',img)\n",
    "cv2.imshow('img3',img)\n",
    "cv2.waitKey(0)\n",
    "cv2.destroyAllWindows()"
   ]
  },
  {
   "cell_type": "code",
   "execution_count": 11,
   "metadata": {},
   "outputs": [
    {
     "data": {
      "text/plain": [
       "True"
      ]
     },
     "execution_count": 11,
     "metadata": {},
     "output_type": "execute_result"
    }
   ],
   "source": [
    "img = cv2.imread('c:/temp/Lenna.jpg')\n",
    "cv2.imwrite('c:/temp/ReadWrite.jpg',img)"
   ]
  },
  {
   "cell_type": "markdown",
   "metadata": {},
   "source": [
    "## 3章"
   ]
  },
  {
   "cell_type": "code",
   "execution_count": 3,
   "metadata": {},
   "outputs": [],
   "source": [
    "img = np.zeros((400,400,3),np.uint8)\n",
    "cv2.circle(img,(200,200),50,(255,0,0),1)\n",
    "cv2.imwrite('c:/temp/circle1.jpg',img)\n",
    "cv2.imshow('img1',img)\n",
    "\n",
    "img = np.zeros((400,400,3),np.uint8)\n",
    "cv2.circle(img,(200,200),100,(0,255,0),3)\n",
    "cv2.imwrite('c:/temp/circle2.jpg',img)\n",
    "cv2.imshow('img2',img)\n",
    "\n",
    "img = np.zeros((400,400,3),np.uint8)\n",
    "cv2.circle(img,(200,200),150,(0,0,255),-1)\n",
    "cv2.imwrite('c:/temp/circle3.jpg',img)\n",
    "cv2.imshow('img3',img)\n",
    "\n",
    "cv2.waitKey(0)\n",
    "cv2.destroyAllWindows()"
   ]
  },
  {
   "cell_type": "code",
   "execution_count": 6,
   "metadata": {},
   "outputs": [],
   "source": [
    "try :\n",
    "    img = cv2.imread('c:/temp/Lenna.jpg')\n",
    "    if img is None:\n",
    "        print('error 30')\n",
    "        import sys\n",
    "        sys.exit()\n",
    "    \n",
    "    cv2.line(img,(50,50),(200,50),(255,0,0))\n",
    "    cv2.line(img,(50,100),(200,100),(0,255,0),5)\n",
    "    \n",
    "    cv2.imwrite('c:/temp/LinesOnImage.jpg',img)\n",
    "    \n",
    "    cv2.imshow('img',img)\n",
    "    cv2.waitKey(0)\n",
    "    cv2.destroyAllWindows()\n",
    "\n",
    "except : \n",
    "    import sys\n",
    "    print(\"Error:\",sys.exc_info()[0])\n",
    "    print(sys.exc_info()[1])\n",
    "    import traceback\n",
    "    print(traceback.format_tb(sys.exc_info()[2]))"
   ]
  },
  {
   "cell_type": "code",
   "execution_count": 8,
   "metadata": {},
   "outputs": [],
   "source": [
    "try :\n",
    "    img = cv2.imread('c:/temp/Lenna.jpg')\n",
    "    if img is None:\n",
    "        print('error 30')\n",
    "        import sys\n",
    "        sys.exit()\n",
    "    \n",
    "    cv2.putText(img,'Hello World!',(50,50),cv2.FONT_HERSHEY_SIMPLEX,0.8,(50,60,80),2)\n",
    "    \n",
    "    cv2.imwrite('c:/temp/LinesOnImage.jpg',img)\n",
    "    \n",
    "    cv2.imshow('img',img)\n",
    "    cv2.waitKey(0)\n",
    "    cv2.destroyAllWindows()\n",
    "\n",
    "except : \n",
    "    import sys\n",
    "    print(\"Error:\",sys.exc_info()[0])\n",
    "    print(sys.exc_info()[1])\n",
    "    import traceback\n",
    "    print(traceback.format_tb(sys.exc_info()[2]))"
   ]
  },
  {
   "cell_type": "markdown",
   "metadata": {},
   "source": [
    "## 4章"
   ]
  },
  {
   "cell_type": "code",
   "execution_count": 10,
   "metadata": {},
   "outputs": [],
   "source": [
    "try :\n",
    "    img = cv2.imread('c:/temp/Lenna.jpg')\n",
    "    if img is None:\n",
    "        print('error 30')\n",
    "        import sys\n",
    "        sys.exit()\n",
    "    \n",
    "    dst = cv2.flip(img,0)\n",
    "    cv2.imwrite('c:/temp/flip0.jpg',dst)\n",
    "    cv2.imshow('dst1',dst)\n",
    "    \n",
    "    dst = cv2.flip(img,1)\n",
    "    cv2.imwrite('c:/temp/flip1.jpg',dst)\n",
    "    cv2.imshow('dst2',dst)\n",
    "    \n",
    "    dst = cv2.flip(img,-1)\n",
    "    cv2.imwrite('c:/temp/flip0.jpg',dst)\n",
    "    cv2.imshow('dst3',dst)\n",
    "    \n",
    "    cv2.waitKey(0)\n",
    "    cv2.destroyAllWindows()\n",
    "\n",
    "except : \n",
    "    import sys\n",
    "    print(\"Error:\",sys.exc_info()[0])\n",
    "    print(sys.exc_info()[1])\n",
    "    import traceback\n",
    "    print(traceback.format_tb(sys.exc_info()[2]))"
   ]
  },
  {
   "cell_type": "code",
   "execution_count": 11,
   "metadata": {},
   "outputs": [],
   "source": [
    "try :\n",
    "    img = cv2.imread('c:/temp/Lenna.jpg')\n",
    "    if img is None:\n",
    "        print('error 30')\n",
    "        import sys\n",
    "        sys.exit()\n",
    "    \n",
    "    SCALE1 = 0.5\n",
    "    SCALE2 = 1.62\n",
    "    height = img.shape[0]\n",
    "    width = img.shape[1]\n",
    "    \n",
    "    dst = cv2.resize(img,(int(width*SCALE1),int(height*SCALE1)))\n",
    "    cv2.imwrite('c:/temp/resize0.5.jpg',dst)\n",
    "    cv2.imshow('dst1',dst)\n",
    "    \n",
    "    dst = cv2.resize(img,(int(width*SCALE2),int(height*SCALE2)))\n",
    "    cv2.imwrite('c:/temp/resize1.62.jpg',dst)\n",
    "    cv2.imshow('dst2',dst)\n",
    "    \n",
    "    dst = cv2.resize(img,(400,200))\n",
    "    cv2.imwrite('c:/temp/resize400*200.jpg',dst)\n",
    "    cv2.imshow('dst3',dst)\n",
    "        \n",
    "    cv2.waitKey(0)\n",
    "    cv2.destroyAllWindows()\n",
    "\n",
    "except : \n",
    "    import sys\n",
    "    print(\"Error:\",sys.exc_info()[0])\n",
    "    print(sys.exc_info()[1])\n",
    "    import traceback\n",
    "    print(traceback.format_tb(sys.exc_info()[2]))"
   ]
  },
  {
   "cell_type": "code",
   "execution_count": 16,
   "metadata": {},
   "outputs": [],
   "source": [
    "try :\n",
    "    img = cv2.imread('c:/temp/Lenna.jpg')\n",
    "    if img is None:\n",
    "        print('error 30')\n",
    "        import sys\n",
    "        sys.exit()\n",
    "    \n",
    "    height = img.shape[0]\n",
    "    width = img.shape[1]\n",
    "    center= (int(width/2),int(height/2))\n",
    "    \n",
    "    affin_trans = cv2.getRotationMatrix2D(center,33.0,1.0)\n",
    "    dst = cv2.warpAffine(img,affin_trans,(width,height))\n",
    "    cv2.imwrite('c:/temp/rotate_033.jpg',dst)\n",
    "    cv2.imshow('dst1',dst)\n",
    "    \n",
    "    affin_trans = cv2.getRotationMatrix2D(center,110.0,1.2)\n",
    "    dst = cv2.warpAffine(img,affin_trans,(width,height),flags=cv2.INTER_CUBIC)\n",
    "    cv2.imwrite('c:/temp/rotate_110.jpg',dst)\n",
    "    cv2.imshow('dst2',dst)\n",
    "    \n",
    "    cv2.waitKey(0)\n",
    "    cv2.destroyAllWindows()\n",
    "\n",
    "except : \n",
    "    import sys\n",
    "    print(\"Error:\",sys.exc_info()[0])\n",
    "    print(sys.exc_info()[1])\n",
    "    import traceback\n",
    "    print(traceback.format_tb(sys.exc_info()[2]))"
   ]
  },
  {
   "cell_type": "code",
   "execution_count": 21,
   "metadata": {},
   "outputs": [],
   "source": [
    "try :\n",
    "    img = cv2.imread('c:/temp/Lenna.jpg')\n",
    "    if img is None:\n",
    "        print('error 30')\n",
    "        import sys\n",
    "        sys.exit()\n",
    "    \n",
    "    rows,cols = img.shape[:2]\n",
    "    x0 = cols / 4\n",
    "    x1 = (cols * 3) / 4\n",
    "    y0 = rows / 4\n",
    "    y1 = (rows * 3) / 4\n",
    "    \n",
    "    list_src = np.float32([[x0,y0],[x0,y1],[x1,y1],[x1,y0]])\n",
    "    \n",
    "    x_margin = cols / 10\n",
    "    y_margin = rows / 10\n",
    "    \n",
    "    list_dsts = np.float32([[x0+x_margin,y0+y_margin],list_src[1],list_src[2],[x1-x_margin,y0+y_margin]])\n",
    "    \n",
    "    perspective_matrix = cv2.getPerspectiveTransform(list_src,list_dsts)\n",
    "    dst = cv2.warpPerspective(img,perspective_matrix,(cols,rows))\n",
    "    cv2.imwrite('c:/temp/dst0.jpg',dst)\n",
    "    cv2.imshow('dst0',dst)\n",
    "    \n",
    "    x_margin = cols /8\n",
    "    y_margin = rows / 8\n",
    "    \n",
    "    list_dsts = np.float32([list_src[0],list_src[1],[x1-x_margin,y1-y_margin],[x1-x_margin,y0+y_margin]])\n",
    "    \n",
    "    perspective_matrix = cv2.getPerspectiveTransform(list_src,list_dsts)\n",
    "    dst = cv2.warpPerspective(img,perspective_matrix,(cols,rows))\n",
    "    cv2.imwrite('c:/temp/dst1.jpg',dst)\n",
    "    cv2.imshow('dst1',dst)\n",
    "    \n",
    "    x_margin = cols / 6\n",
    "    y_margin = rows / 6\n",
    "    \n",
    "    list_dsts = np.float32([[x0+x_margin,y0+y_margin],list_src[1],[x1-x_margin,y1-y_margin],list_src[3]])\n",
    "    \n",
    "    perspective_matrix = cv2.getPerspectiveTransform(list_src,list_dsts)\n",
    "    dst = cv2.warpPerspective(img,perspective_matrix,(cols,rows))\n",
    "    cv2.imwrite('c:/temp/dst2.jpg',dst)\n",
    "    cv2.imshow('dst2',dst)\n",
    "    \n",
    "    \n",
    "    \n",
    "    cv2.waitKey(0)\n",
    "    cv2.destroyAllWindows()\n",
    "\n",
    "except : \n",
    "    import sys\n",
    "    print(\"Error:\",sys.exc_info()[0])\n",
    "    print(sys.exc_info()[1])\n",
    "    import traceback\n",
    "    print(traceback.format_tb(sys.exc_info()[2]))"
   ]
  },
  {
   "cell_type": "code",
   "execution_count": 22,
   "metadata": {},
   "outputs": [],
   "source": [
    "try :\n",
    "    img = cv2.imread('c:/temp/Lenna.jpg')\n",
    "    if img is None:\n",
    "        print('error 30')\n",
    "        import sys\n",
    "        sys.exit()\n",
    "    \n",
    "    height = img.shape[0]\n",
    "    width = img.shape[1]\n",
    "    \n",
    "    dst = img[40:height,40:width]\n",
    "    cv2.imwrite('c:/temp/Trimming.jpg',dst)\n",
    "    cv2.imshow('dst',dst)\n",
    "\n",
    "    cv2.waitKey(0)\n",
    "    cv2.destroyAllWindows()     \n",
    "\n",
    "\n",
    "except : \n",
    "    import sys\n",
    "    print(\"Error:\",sys.exc_info()[0])\n",
    "    print(sys.exc_info()[1])\n",
    "    import traceback\n",
    "    print(traceback.format_tb(sys.exc_info()[2]))"
   ]
  },
  {
   "cell_type": "code",
   "execution_count": null,
   "metadata": {},
   "outputs": [],
   "source": []
  },
  {
   "cell_type": "code",
   "execution_count": null,
   "metadata": {},
   "outputs": [],
   "source": []
  },
  {
   "cell_type": "code",
   "execution_count": null,
   "metadata": {},
   "outputs": [],
   "source": []
  },
  {
   "cell_type": "code",
   "execution_count": null,
   "metadata": {},
   "outputs": [],
   "source": []
  },
  {
   "cell_type": "code",
   "execution_count": null,
   "metadata": {},
   "outputs": [],
   "source": []
  }
 ],
 "metadata": {
  "kernelspec": {
   "display_name": "Python 3",
   "language": "python",
   "name": "python3"
  },
  "language_info": {
   "codemirror_mode": {
    "name": "ipython",
    "version": 3
   },
   "file_extension": ".py",
   "mimetype": "text/x-python",
   "name": "python",
   "nbconvert_exporter": "python",
   "pygments_lexer": "ipython3",
   "version": "3.8.4rc1"
  }
 },
 "nbformat": 4,
 "nbformat_minor": 4
}
